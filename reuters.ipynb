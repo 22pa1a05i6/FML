{
  "nbformat": 4,
  "nbformat_minor": 0,
  "metadata": {
    "colab": {
      "provenance": [],
      "authorship_tag": "ABX9TyN9OHrVTZ9CGpTsRPqIZxiH",
      "include_colab_link": true
    },
    "kernelspec": {
      "name": "python3",
      "display_name": "Python 3"
    },
    "language_info": {
      "name": "python"
    }
  },
  "cells": [
    {
      "cell_type": "markdown",
      "metadata": {
        "id": "view-in-github",
        "colab_type": "text"
      },
      "source": [
        "<a href=\"https://colab.research.google.com/github/22pa1a05i6/FML/blob/main/reuters.ipynb\" target=\"_parent\"><img src=\"https://colab.research.google.com/assets/colab-badge.svg\" alt=\"Open In Colab\"/></a>"
      ]
    },
    {
      "cell_type": "code",
      "execution_count": 1,
      "metadata": {
        "colab": {
          "base_uri": "https://localhost:8080/"
        },
        "id": "k0JiwrW3UZlr",
        "outputId": "eee937fb-7b18-401e-c928-61076d4075ef"
      },
      "outputs": [
        {
          "output_type": "stream",
          "name": "stderr",
          "text": [
            "[nltk_data] Downloading package reuters to /root/nltk_data...\n"
          ]
        },
        {
          "output_type": "execute_result",
          "data": {
            "text/plain": [
              "True"
            ]
          },
          "metadata": {},
          "execution_count": 1
        }
      ],
      "source": [
        "import nltk\n",
        "nltk.download('reuters')"
      ]
    },
    {
      "cell_type": "code",
      "source": [
        "from nltk.corpus import reuters\n",
        "from nltk import bigrams,trigrams\n",
        "from collections import Counter,defaultdict\n",
        "import nltk\n",
        "nltk.download('punkt')"
      ],
      "metadata": {
        "colab": {
          "base_uri": "https://localhost:8080/"
        },
        "id": "qLmYzUQPUpQR",
        "outputId": "056648f7-6368-4282-f375-33eeffeb74b4"
      },
      "execution_count": 5,
      "outputs": [
        {
          "output_type": "stream",
          "name": "stderr",
          "text": [
            "[nltk_data] Downloading package punkt to /root/nltk_data...\n",
            "[nltk_data]   Unzipping tokenizers/punkt.zip.\n"
          ]
        },
        {
          "output_type": "execute_result",
          "data": {
            "text/plain": [
              "True"
            ]
          },
          "metadata": {},
          "execution_count": 5
        }
      ]
    },
    {
      "cell_type": "code",
      "source": [
        "model=defaultdict(lambda:defaultdict(lambda:0))\n",
        "for sentence in reuters.sents():\n",
        "  for w1,w2,w3 in trigrams(sentence,pad_right=True,pad_left=True):\n",
        "    model[(w1,w2)][w3]+=1"
      ],
      "metadata": {
        "id": "ZQ3MnEtaWWh8"
      },
      "execution_count": 6,
      "outputs": []
    },
    {
      "cell_type": "code",
      "source": [
        "for w1_w2 in model:\n",
        "    total_count = float(sum(model[w1_w2].values()))\n",
        "    for w3 in model[w1_w2]:\n",
        "        model[w1_w2][w3] /= total_count"
      ],
      "metadata": {
        "id": "3laM29VzW01a"
      },
      "execution_count": 10,
      "outputs": []
    },
    {
      "cell_type": "code",
      "source": [
        "dict(model[\"today\",\"the\"])"
      ],
      "metadata": {
        "colab": {
          "base_uri": "https://localhost:8080/"
        },
        "id": "KWyL7t9iXTzo",
        "outputId": "9c19affc-e1fa-4cec-ff85-7e1042f035f4"
      },
      "execution_count": 11,
      "outputs": [
        {
          "output_type": "execute_result",
          "data": {
            "text/plain": [
              "{'public': 0.05555555555555554,\n",
              " 'European': 0.05555555555555554,\n",
              " 'Bank': 0.05555555555555554,\n",
              " 'price': 0.11111111111111108,\n",
              " 'emirate': 0.05555555555555554,\n",
              " 'overseas': 0.05555555555555554,\n",
              " 'newspaper': 0.05555555555555554,\n",
              " 'company': 0.16666666666666663,\n",
              " 'Turkish': 0.05555555555555554,\n",
              " 'increase': 0.05555555555555554,\n",
              " 'options': 0.05555555555555554,\n",
              " 'Higher': 0.05555555555555554,\n",
              " 'pound': 0.05555555555555554,\n",
              " 'Italian': 0.05555555555555554,\n",
              " 'time': 0.05555555555555554}"
            ]
          },
          "metadata": {},
          "execution_count": 11
        }
      ]
    },
    {
      "cell_type": "code",
      "source": [
        "dict(model[\"yesterday\",\"the\"])"
      ],
      "metadata": {
        "colab": {
          "base_uri": "https://localhost:8080/"
        },
        "id": "py2KW0WmXzUf",
        "outputId": "57319b34-125d-47ab-c8ab-94c1f09cf5d1"
      },
      "execution_count": 14,
      "outputs": [
        {
          "output_type": "execute_result",
          "data": {
            "text/plain": [
              "{'threat': 0.11111111111111108,\n",
              " 'deposits': 0.11111111111111108,\n",
              " 'reduction': 0.11111111111111108,\n",
              " 'rebate': 0.11111111111111108,\n",
              " 'pipeline': 0.11111111111111108,\n",
              " 'market': 0.11111111111111108,\n",
              " 'company': 0.11111111111111108,\n",
              " 'requirement': 0.11111111111111108,\n",
              " 'offer': 0.11111111111111108}"
            ]
          },
          "metadata": {},
          "execution_count": 14
        }
      ]
    },
    {
      "cell_type": "code",
      "source": [
        "dict(model[\"the\",\"price\"])"
      ],
      "metadata": {
        "colab": {
          "base_uri": "https://localhost:8080/"
        },
        "id": "6xolJtfWYKeW",
        "outputId": "b7584be9-34cc-498c-ccb5-291837ef688e"
      },
      "execution_count": 15,
      "outputs": [
        {
          "output_type": "execute_result",
          "data": {
            "text/plain": [
              "{'yesterday': 0.00465116279069768,\n",
              " 'of': 0.3209302325581399,\n",
              " 'it': 0.05581395348837216,\n",
              " 'effect': 0.00465116279069768,\n",
              " 'cut': 0.00930232558139536,\n",
              " 'for': 0.05116279069767448,\n",
              " 'paid': 0.01395348837209304,\n",
              " 'to': 0.05581395348837216,\n",
              " 'increases': 0.01395348837209304,\n",
              " 'used': 0.00465116279069768,\n",
              " 'climate': 0.00465116279069768,\n",
              " '.': 0.0232558139534884,\n",
              " 'cuts': 0.00930232558139536,\n",
              " 'reductions': 0.00465116279069768,\n",
              " 'limit': 0.00465116279069768,\n",
              " 'now': 0.00465116279069768,\n",
              " 'moved': 0.00465116279069768,\n",
              " 'per': 0.01395348837209304,\n",
              " 'adjustments': 0.00465116279069768,\n",
              " '(': 0.00930232558139536,\n",
              " 'slumped': 0.00465116279069768,\n",
              " 'is': 0.01860465116279072,\n",
              " 'move': 0.00465116279069768,\n",
              " 'evolution': 0.00465116279069768,\n",
              " 'differentials': 0.00930232558139536,\n",
              " 'went': 0.00465116279069768,\n",
              " 'the': 0.01395348837209304,\n",
              " 'factor': 0.00465116279069768,\n",
              " 'Royal': 0.00465116279069768,\n",
              " ',': 0.01860465116279072,\n",
              " 'again': 0.00465116279069768,\n",
              " 'changes': 0.00465116279069768,\n",
              " 'holds': 0.00465116279069768,\n",
              " 'has': 0.00930232558139536,\n",
              " 'fall': 0.00465116279069768,\n",
              " '-': 0.00465116279069768,\n",
              " 'from': 0.00465116279069768,\n",
              " 'base': 0.00465116279069768,\n",
              " 'on': 0.00465116279069768,\n",
              " 'review': 0.00465116279069768,\n",
              " 'while': 0.00465116279069768,\n",
              " 'collapse': 0.00465116279069768,\n",
              " 'being': 0.00465116279069768,\n",
              " 'at': 0.0232558139534884,\n",
              " 'outlook': 0.00465116279069768,\n",
              " 'rises': 0.00465116279069768,\n",
              " 'drop': 0.00465116279069768,\n",
              " 'guaranteed': 0.00465116279069768,\n",
              " ',\"': 0.00465116279069768,\n",
              " 'stayed': 0.00930232558139536,\n",
              " 'structure': 0.00465116279069768,\n",
              " 'and': 0.00465116279069768,\n",
              " 'could': 0.00465116279069768,\n",
              " 'related': 0.00465116279069768,\n",
              " 'hike': 0.00465116279069768,\n",
              " 'we': 0.00465116279069768,\n",
              " 'adjustment': 0.0232558139534884,\n",
              " 'policy': 0.00465116279069768,\n",
              " 'was': 0.00930232558139536,\n",
              " 'revision': 0.00465116279069768,\n",
              " 'freeze': 0.00930232558139536,\n",
              " 'led': 0.00465116279069768,\n",
              " 'action': 0.00465116279069768,\n",
              " 'zone': 0.00465116279069768,\n",
              " 'slump': 0.00465116279069768,\n",
              " 'had': 0.00465116279069768,\n",
              " 'difference': 0.00465116279069768,\n",
              " 'in': 0.00465116279069768,\n",
              " 'raise': 0.00465116279069768,\n",
              " 'increase': 0.00930232558139536,\n",
              " 'will': 0.01395348837209304,\n",
              " 'support': 0.00465116279069768,\n",
              " 'gap': 0.00465116279069768,\n",
              " 'would': 0.00930232558139536,\n",
              " 'projected': 0.00465116279069768,\n",
              " 'approached': 0.00465116279069768,\n",
              " 'instability': 0.00465116279069768}"
            ]
          },
          "metadata": {},
          "execution_count": 15
        }
      ]
    },
    {
      "cell_type": "code",
      "source": [
        "dict(model[\"it\",\"the\"])"
      ],
      "metadata": {
        "colab": {
          "base_uri": "https://localhost:8080/"
        },
        "id": "IGzasd9DYqc2",
        "outputId": "d1ae63c6-d98a-46ea-da89-1bd73da75250"
      },
      "execution_count": 16,
      "outputs": [
        {
          "output_type": "execute_result",
          "data": {
            "text/plain": [
              "{'fifth': 0.11111111111111108,\n",
              " 'nation': 0.11111111111111108,\n",
              " 'world': 0.11111111111111108,\n",
              " 'exclusive': 0.11111111111111108,\n",
              " 'exchange': 0.11111111111111108,\n",
              " 'right': 0.11111111111111108,\n",
              " 'Four': 0.11111111111111108,\n",
              " 'Third': 0.11111111111111108,\n",
              " 'largest': 0.11111111111111108}"
            ]
          },
          "metadata": {},
          "execution_count": 16
        }
      ]
    }
  ]
}